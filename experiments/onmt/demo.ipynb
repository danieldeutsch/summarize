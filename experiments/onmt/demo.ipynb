{
 "cells": [
  {
   "cell_type": "code",
   "execution_count": 1,
   "metadata": {},
   "outputs": [
    {
     "name": "stdout",
     "output_type": "stream",
     "text": [
      "Better speed can be achieved with apex installed from https://www.github.com/nvidia/apex.\n"
     ]
    }
   ],
   "source": [
    "# Import external resources\n",
    "from allennlp.common.util import import_submodules\n",
    "from allennlp.models.archival import load_archive\n",
    "from allennlp.predictors import Predictor\n",
    "from typing import List"
   ]
  },
  {
   "cell_type": "code",
   "execution_count": 2,
   "metadata": {},
   "outputs": [
    {
     "name": "stderr",
     "output_type": "stream",
     "text": [
      "/Users/dan/source/allennlp/allennlp/service/predictors/__init__.py:23: FutureWarning: allennlp.service.predictors.* has been depreciated. Please use allennlp.predictors.*\n",
      "  \"Please use allennlp.predictors.*\", FutureWarning)\n",
      "/Users/dan/source/allennlp/allennlp/service/predictors/predictor.py:6: FutureWarning: allennlp.service.predictors.* has been deprecated. Please use allennlp.predictors.*\n",
      "  \" Please use allennlp.predictors.*\", FutureWarning)\n"
     ]
    }
   ],
   "source": [
    "# Change the working directory to be the root of the Github repo\n",
    "# so that the module's code can be found by AllenNLP\n",
    "import os\n",
    "os.chdir('../..')\n",
    "os.getcwd()\n",
    "import_submodules('summarize')"
   ]
  },
  {
   "cell_type": "code",
   "execution_count": 3,
   "metadata": {},
   "outputs": [],
   "source": [
    "# Load the model and the predictor that will be used for the demo\n",
    "archive = load_archive('https://danieldeutsch.s3.amazonaws.com/summarize/experiments/onmt/v1.0/pointer-generator/model/model.tar.gz',\n",
    "                        overrides='{\"model.metrics\": []}')\n",
    "predictor = Predictor.from_archive(archive, 'sds-abstractive-predictor')"
   ]
  },
  {
   "cell_type": "code",
   "execution_count": 4,
   "metadata": {},
   "outputs": [],
   "source": [
    "# Define the method to produce the summary\n",
    "def summarize(document: List[str]) -> str:\n",
    "    output = predictor.predict_json({'document': document})\n",
    "    return output['summary']"
   ]
  },
  {
   "cell_type": "code",
   "execution_count": 5,
   "metadata": {},
   "outputs": [
    {
     "data": {
      "text/plain": [
       "'boston has set a record this winter for the @@UNKNOWN@@ month in its history . most residents see the huge piles of snow choking their yards and sidewalks as a nuisance . many of his customers appear to be companies in warm-weather states who are buying the snow as a gag .'"
      ]
     },
     "execution_count": 5,
     "metadata": {},
     "output_type": "execute_result"
    }
   ],
   "source": [
    "document = [\n",
    "    \"( CNN ) The only thing crazier than a guy in snowbound Massachusetts boxing up the powdery white stuff and offering it for sale online ?\",\n",
    "    \"People are actually buying it .\",\n",
    "    \"For $ 89 , self-styled entrepreneur Kyle Waring will ship you 6 pounds of Boston-area snow in an insulated Styrofoam box -- enough for 10 to 15 snowballs , he says .\",\n",
    "    \"But not if you live in New England or surrounding states .\",\n",
    "    \"`` We will not ship snow to any states in the northeast ! '' says Waring 's website , ShipSnowYo.com . `` We 're in the business of expunging snow ! ''\",\n",
    "    \"His website and social media accounts claim to have filled more than 133 orders for snow -- more than 30 on Tuesday alone , his busiest day yet .\",\n",
    "    \"With more than 45 total inches , Boston has set a record this winter for the snowiest month in its history . Most residents see the huge piles of snow choking their yards and sidewalks as a nuisance , but Waring saw an opportunity .\",\n",
    "    \"According to Boston.com , it all started a few weeks ago , when Waring and his wife were shoveling deep snow from their yard in Manchester-by-the-Sea , a coastal suburb north of Boston . He joked about shipping the stuff to friends and family in warmer states , and an idea was born .\",\n",
    "    \"His business slogan : `` Our nightmare is your dream ! ''\",\n",
    "    \"At first , ShipSnowYo sold snow packed into empty 16.9-ounce water bottles for $ 19.99 , but the snow usually melted before it reached its destination .\",\n",
    "    \"So this week , Waring began shipping larger amounts in the Styrofoam cubes , which he promises will arrive anywhere in the U.S. in less than 20 hours .\",\n",
    "    \"He also has begun selling a 10-pound box of snow for $ 119 .\",\n",
    "    \"Many of his customers appear to be companies in warm-weather states who are buying the snow as a gag , he said .\",\n",
    "    \"Whether Waring can sustain his gimmicky venture into the spring remains to be seen . But he has no shortage of product .\",\n",
    "    \"`` At this rate , it 's going to be July until the snow melts , '' he told Boston.com . `` But I 've thought about taking this idea and running with it for other seasonal items . Maybe I 'll ship some fall foliage . ''\"\n",
    "]\n",
    "summarize(document)"
   ]
  },
  {
   "cell_type": "code",
   "execution_count": null,
   "metadata": {},
   "outputs": [],
   "source": []
  },
  {
   "cell_type": "code",
   "execution_count": null,
   "metadata": {},
   "outputs": [],
   "source": []
  }
 ],
 "metadata": {
  "kernelspec": {
   "display_name": "Python 3",
   "language": "python",
   "name": "python3"
  },
  "language_info": {
   "codemirror_mode": {
    "name": "ipython",
    "version": 3
   },
   "file_extension": ".py",
   "mimetype": "text/x-python",
   "name": "python",
   "nbconvert_exporter": "python",
   "pygments_lexer": "ipython3",
   "version": "3.6.9"
  }
 },
 "nbformat": 4,
 "nbformat_minor": 2
}
