{
 "cells": [
  {
   "cell_type": "code",
   "execution_count": null,
   "metadata": {},
   "outputs": [],
   "source": [
    "# Import external resources\n",
    "import json\n",
    "from allennlp.common.util import import_submodules\n",
    "from allennlp.models.archival import load_archive\n",
    "from allennlp.predictors import Predictor\n",
    "from collections import defaultdict\n",
    "from typing import List"
   ]
  },
  {
   "cell_type": "code",
   "execution_count": null,
   "metadata": {},
   "outputs": [],
   "source": [
    "# Change the working directory to be the root of the Github repo\n",
    "# so that the module's code can be found by AllenNLP\n",
    "import os\n",
    "os.chdir('../..')\n",
    "os.getcwd()\n",
    "import_submodules('summarize')"
   ]
  },
  {
   "cell_type": "code",
   "execution_count": null,
   "metadata": {},
   "outputs": [],
   "source": [
    "# Load the extractive model (selects exactly 1 sentence)\n",
    "overrides = '{\"model.metrics\": [], \"model.initializer\": null, \"dataset_reader.max_num_sentences\": null, \"model.max_words\": null, \"model.max_sents\": 1}'\n",
    "extractive_archive = load_archive('https://danieldeutsch.s3.amazonaws.com/summarize/experiments/deutsch2019/v1.1/extractive-step/extractive-model/model/topics/context/model.tar.gz',\n",
    "                                  overrides=overrides)\n",
    "\n",
    "# Load the extractive step model (selects 200 words as a preprocessing step)\n",
    "overrides = '{\"model.metrics\": [], \"model.initializer\": null, \"dataset_reader.max_num_sentences\": null}'\n",
    "extractive_step_archive = load_archive('https://danieldeutsch.s3.amazonaws.com/summarize/experiments/deutsch2019/v1.1/extractive-step/extractive-model/model/topics/context/model.tar.gz',\n",
    "                                       overrides=overrides)\n",
    "\n",
    "# Load the abstractive step model\n",
    "overrides = '{\"model.metrics\": [], \"model.initializer\": null}'\n",
    "abstractive_archive = load_archive('https://danieldeutsch.s3.amazonaws.com/summarize/experiments/deutsch2019/v1.1/abstractive-step/coverage/model/extractive-model/context/model.tar.gz',\n",
    "                                   overrides=overrides)\n",
    "\n",
    "extractive_predictor = Predictor.from_archive(extractive_archive, 'cloze-extractive-predictor')\n",
    "extractive_step_predictor = Predictor.from_archive(extractive_step_archive, 'cloze-extractive-predictor')\n",
    "abstractive_predictor = Predictor.from_archive(abstractive_archive, 'cloze-abstractive-predictor')"
   ]
  },
  {
   "cell_type": "code",
   "execution_count": null,
   "metadata": {},
   "outputs": [],
   "source": [
    "# Define the method to produce the summary\n",
    "def _run_extractive_model(predictor: Predictor, document: List[str], topics: List[str], context: List[str]) -> List[str]:\n",
    "    output = predictor.predict_json({'document': document, 'topics': topics, 'context': context})\n",
    "    indices = output['predicted_indices']\n",
    "    document = output['metadata']['document']\n",
    "    cloze = [document[index] for index in indices]\n",
    "    return cloze\n",
    "\n",
    "def run_extractive_model(document: List[str], topics: List[str], context: List[str]) -> List[str]:\n",
    "    return _run_extractive_model(extractive_predictor, document, topics, context)\n",
    "\n",
    "def run_extractive_step(document: List[str], topics: List[str], context: List[str]) -> List[str]:\n",
    "    return _run_extractive_model(extractive_step_predictor, document, topics, context)\n",
    "\n",
    "def run_abstractive_step(document: List[str], topics: List[str], context: List[str]) -> str:\n",
    "    output = abstractive_predictor.predict_json({'document': document, 'topics': topics, 'context': context})\n",
    "    return output['cloze']"
   ]
  },
  {
   "cell_type": "code",
   "execution_count": null,
   "metadata": {},
   "outputs": [],
   "source": [
    "# Define the input data. The text should be pretokenized\n",
    "topics = ['Barack Obama', 'Early life and career', 'Family and personal life']\n",
    "\n",
    "document = [\n",
    "    \"Michelle Robinson and Barack Obama had been dating for a couple of years , and she was tired of his endless debates about whether marriage still meant anything as an institution .\",\n",
    "    \"So when Obama launched into one of those discussions yet again over dinner at a fancy restaurant in 1991 , Robinson lit into her boyfriend , lecturing him on the need to get serious in their relationship .\",\n",
    "    \"Then dessert came .\",\n",
    "    \"On the plate was a box .\",\n",
    "    \"Inside was an engagement ring .\",\n",
    "    \"`` He said , 'That kind of shuts you up , does n't it ? ' `` Michelle Obama recounted years later .\",\n",
    "    \"The couple married the following year .\",\n",
    "    \"And today , Michelle , 43 , and Democratic presidential hopeful Barack Obama , 46 , will celebrate their 15th wedding anniversary .\",\n",
    "    \"The marriage might never have happened .\",\n",
    "    \"They met in 1989 when Obama spent his summer as a first-year law student at the Chicago law firm of Sidley & Austin , and Michelle Robinson was the lawyer assigned to be his adviser .\",\n",
    "    \"Everybody at the firm had been buzzing about the smart , first-year Harvard Law School student , so she was expecting him to be `` nerdy , strange , off-putting . ''\",\n",
    "    \"`` But I was charmed , '' she said .\",\n",
    "    \"`` I was pleasantly surprised by who he turned out to be . ''\",\n",
    "    \"Still , because of their professional relationship , Michelle Robinson tried to fix Obama up with her friends .\",\n",
    "    \"Then , halfway through the summer , Obama asked her out .\",\n",
    "    \"On their first date , they went to the Art Institute , strolled down Michigan Avenue and caught Spike Lee 's `` Do the Right Thing . ''\",\n",
    "    \"`` It was fantastic , '' Michelle Obama said in 2004 .\",\n",
    "    \"`` He was definitely putting on the charm . ... It worked .\",\n",
    "    \"He swept me off my feet . ''\",\n",
    "    \"Two years later came the proposal dinner at Gordon 's on Clark Street .\",\n",
    "    \"And what was the dessert next to that engagement ring ?\",\n",
    "    \"`` I do n't even remember , '' Michelle Obama conceded in 2004 .\",\n",
    "    \"`` I do n't think I even ate it .\",\n",
    "    \"I was so shocked and sort of a little embarrassed because he did sort of shut me up . ''\",\n",
    "]\n",
    "\n",
    "context = [\n",
    "    'In June 1989, Obama met Michelle Robinson when he was employed as a summer associate at the Chicago law firm of Sidley Austin .',\n",
    "    'Robinson was assigned for three months as Obama\\'s adviser at the firm, and she joined him at several group social functions but declined his initial requests to date.'\n",
    "]"
   ]
  },
  {
   "cell_type": "code",
   "execution_count": null,
   "metadata": {},
   "outputs": [],
   "source": [
    "# Runs the extractive model which selects 1 sentence from the input document\n",
    "run_extractive_model(document, topics, context)"
   ]
  },
  {
   "cell_type": "code",
   "execution_count": null,
   "metadata": {},
   "outputs": [],
   "source": [
    "# Runs the extractive preprocessing step that takes ~200 tokens from the document\n",
    "preprocessed_data = run_extractive_step(document, topics, context)\n",
    "print(json.dumps(preprocessed_data, indent=2))"
   ]
  },
  {
   "cell_type": "code",
   "execution_count": null,
   "metadata": {},
   "outputs": [],
   "source": [
    "# Run the abstractive step on the preprocessed data to generate the cloze\n",
    "run_abstractive_step(preprocessed_data, topics, context)"
   ]
  },
  {
   "cell_type": "code",
   "execution_count": null,
   "metadata": {},
   "outputs": [],
   "source": []
  }
 ],
 "metadata": {
  "kernelspec": {
   "display_name": "Python 3",
   "language": "python",
   "name": "python3"
  },
  "language_info": {
   "codemirror_mode": {
    "name": "ipython",
    "version": 3
   },
   "file_extension": ".py",
   "mimetype": "text/x-python",
   "name": "python",
   "nbconvert_exporter": "python",
   "pygments_lexer": "ipython3",
   "version": "3.6.9"
  }
 },
 "nbformat": 4,
 "nbformat_minor": 2
}
